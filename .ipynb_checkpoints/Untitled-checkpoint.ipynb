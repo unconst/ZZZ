{
 "cells": [
  {
   "cell_type": "code",
   "execution_count": 3,
   "id": "806736f6",
   "metadata": {},
   "outputs": [
    {
     "data": {
      "application/vnd.jupyter.widget-view+json": {
       "model_id": "d65779d5628a4f92a21ca79ae35b9f14",
       "version_major": 2,
       "version_minor": 0
      },
      "text/plain": [
       "Output()"
      ]
     },
     "metadata": {},
     "output_type": "display_data"
    }
   ],
   "source": [
    "from rich.progress import track\n",
    "import time\n",
    "for n in track(range(10), description=\"Processing...\"):\n",
    "    time.sleep(1)\n",
    "    "
   ]
  },
  {
   "cell_type": "code",
   "execution_count": 4,
   "id": "8292c853",
   "metadata": {},
   "outputs": [
    {
     "data": {
      "application/vnd.jupyter.widget-view+json": {
       "model_id": "",
       "version_major": 2,
       "version_minor": 0
      },
      "text/plain": [
       "Output()"
      ]
     },
     "metadata": {},
     "output_type": "display_data"
    },
    {
     "data": {
      "text/html": [
       "<pre style=\"white-space:pre;overflow-x:auto;line-height:normal;font-family:Menlo,'DejaVu Sans Mono',consolas,'Courier New',monospace\"></pre>\n"
      ],
      "text/plain": []
     },
     "metadata": {},
     "output_type": "display_data"
    }
   ],
   "source": [
    "from rich.status import Status\n",
    "from time import sleep\n",
    "\n",
    "status_list = [\"First status\",\"Second status\",\"Third status\"]\n",
    "with Status(\"Initial status\") as status:\n",
    "    sleep(3)  # or do some work\n",
    "    for stat in status_list:\n",
    "        status.update(stat)\n",
    "        sleep(3)  # or do some more work"
   ]
  },
  {
   "cell_type": "code",
   "execution_count": 95,
   "id": "64331d92",
   "metadata": {},
   "outputs": [
    {
     "data": {
      "text/html": [
       "<pre style=\"white-space:pre;overflow-x:auto;line-height:normal;font-family:Menlo,'DejaVu Sans Mono',consolas,'Courier New',monospace\"><span style=\"color: #008080; text-decoration-color: #008080; font-weight: bold\">0</span>  <span style=\"color: #008080; text-decoration-color: #008080; font-weight: bold\">1</span>  <span style=\"color: #008080; text-decoration-color: #008080; font-weight: bold\">2</span>  <span style=\"color: #008080; text-decoration-color: #008080; font-weight: bold\">3</span>  <span style=\"color: #008080; text-decoration-color: #008080; font-weight: bold\">4</span>  <span style=\"color: #008080; text-decoration-color: #008080; font-weight: bold\">5</span>  <span style=\"color: #008080; text-decoration-color: #008080; font-weight: bold\">6</span>  <span style=\"color: #008080; text-decoration-color: #008080; font-weight: bold\">7</span>  <span style=\"color: #008080; text-decoration-color: #008080; font-weight: bold\">8</span>  <span style=\"color: #008080; text-decoration-color: #008080; font-weight: bold\">9</span>  <span style=\"color: #008080; text-decoration-color: #008080; font-weight: bold\">10</span> <span style=\"color: #008080; text-decoration-color: #008080; font-weight: bold\">11</span> <span style=\"color: #008080; text-decoration-color: #008080; font-weight: bold\">12</span> <span style=\"color: #008080; text-decoration-color: #008080; font-weight: bold\">13</span> <span style=\"color: #008080; text-decoration-color: #008080; font-weight: bold\">14</span> <span style=\"color: #008080; text-decoration-color: #008080; font-weight: bold\">15</span> <span style=\"color: #008080; text-decoration-color: #008080; font-weight: bold\">16</span> <span style=\"color: #008080; text-decoration-color: #008080; font-weight: bold\">17</span> <span style=\"color: #008080; text-decoration-color: #008080; font-weight: bold\">18</span> <span style=\"color: #008080; text-decoration-color: #008080; font-weight: bold\">19</span> <span style=\"color: #008080; text-decoration-color: #008080; font-weight: bold\">20</span> <span style=\"color: #008080; text-decoration-color: #008080; font-weight: bold\">21</span> <span style=\"color: #008080; text-decoration-color: #008080; font-weight: bold\">22</span> <span style=\"color: #008080; text-decoration-color: #008080; font-weight: bold\">23</span> <span style=\"color: #008080; text-decoration-color: #008080; font-weight: bold\">24</span> <span style=\"color: #008080; text-decoration-color: #008080; font-weight: bold\">25</span> <span style=\"color: #008080; text-decoration-color: #008080; font-weight: bold\">26</span> <span style=\"color: #008080; text-decoration-color: #008080; font-weight: bold\">27</span> <span style=\"color: #008080; text-decoration-color: #008080; font-weight: bold\">28</span> <span style=\"color: #008080; text-decoration-color: #008080; font-weight: bold\">29</span> <span style=\"color: #008080; text-decoration-color: #008080; font-weight: bold\">30</span>\n",
       "<span style=\"color: #008080; text-decoration-color: #008080; font-weight: bold\">31</span> <span style=\"color: #008080; text-decoration-color: #008080; font-weight: bold\">32</span> <span style=\"color: #008080; text-decoration-color: #008080; font-weight: bold\">33</span> <span style=\"color: #008080; text-decoration-color: #008080; font-weight: bold\">34</span> <span style=\"color: #008080; text-decoration-color: #008080; font-weight: bold\">35</span> <span style=\"color: #008080; text-decoration-color: #008080; font-weight: bold\">36</span> <span style=\"color: #008080; text-decoration-color: #008080; font-weight: bold\">37</span> <span style=\"color: #008080; text-decoration-color: #008080; font-weight: bold\">38</span> <span style=\"color: #008080; text-decoration-color: #008080; font-weight: bold\">39</span> <span style=\"color: #008080; text-decoration-color: #008080; font-weight: bold\">40</span> <span style=\"color: #008080; text-decoration-color: #008080; font-weight: bold\">41</span> <span style=\"color: #008080; text-decoration-color: #008080; font-weight: bold\">42</span> <span style=\"color: #008080; text-decoration-color: #008080; font-weight: bold\">43</span> <span style=\"color: #008080; text-decoration-color: #008080; font-weight: bold\">44</span> <span style=\"color: #008080; text-decoration-color: #008080; font-weight: bold\">45</span> <span style=\"color: #008080; text-decoration-color: #008080; font-weight: bold\">46</span> <span style=\"color: #008080; text-decoration-color: #008080; font-weight: bold\">47</span> <span style=\"color: #008080; text-decoration-color: #008080; font-weight: bold\">48</span> <span style=\"color: #008080; text-decoration-color: #008080; font-weight: bold\">49</span> <span style=\"color: #008080; text-decoration-color: #008080; font-weight: bold\">50</span> <span style=\"color: #008080; text-decoration-color: #008080; font-weight: bold\">51</span> <span style=\"color: #008080; text-decoration-color: #008080; font-weight: bold\">52</span> <span style=\"color: #008080; text-decoration-color: #008080; font-weight: bold\">53</span> <span style=\"color: #008080; text-decoration-color: #008080; font-weight: bold\">54</span> <span style=\"color: #008080; text-decoration-color: #008080; font-weight: bold\">55</span> <span style=\"color: #008080; text-decoration-color: #008080; font-weight: bold\">56</span> <span style=\"color: #008080; text-decoration-color: #008080; font-weight: bold\">57</span> <span style=\"color: #008080; text-decoration-color: #008080; font-weight: bold\">58</span> <span style=\"color: #008080; text-decoration-color: #008080; font-weight: bold\">59</span> <span style=\"color: #008080; text-decoration-color: #008080; font-weight: bold\">60</span> <span style=\"color: #008080; text-decoration-color: #008080; font-weight: bold\">61</span>\n",
       "<span style=\"color: #008080; text-decoration-color: #008080; font-weight: bold\">62</span> <span style=\"color: #008080; text-decoration-color: #008080; font-weight: bold\">63</span> <span style=\"color: #008080; text-decoration-color: #008080; font-weight: bold\">64</span> <span style=\"color: #008080; text-decoration-color: #008080; font-weight: bold\">65</span> <span style=\"color: #008080; text-decoration-color: #008080; font-weight: bold\">66</span> <span style=\"color: #008080; text-decoration-color: #008080; font-weight: bold\">67</span> <span style=\"color: #008080; text-decoration-color: #008080; font-weight: bold\">68</span> <span style=\"color: #008080; text-decoration-color: #008080; font-weight: bold\">69</span> <span style=\"color: #008080; text-decoration-color: #008080; font-weight: bold\">70</span> <span style=\"color: #008080; text-decoration-color: #008080; font-weight: bold\">71</span> <span style=\"color: #008080; text-decoration-color: #008080; font-weight: bold\">72</span> <span style=\"color: #008080; text-decoration-color: #008080; font-weight: bold\">73</span> <span style=\"color: #008080; text-decoration-color: #008080; font-weight: bold\">74</span> <span style=\"color: #008080; text-decoration-color: #008080; font-weight: bold\">75</span> <span style=\"color: #008080; text-decoration-color: #008080; font-weight: bold\">76</span> <span style=\"color: #008080; text-decoration-color: #008080; font-weight: bold\">77</span> <span style=\"color: #008080; text-decoration-color: #008080; font-weight: bold\">78</span> <span style=\"color: #008080; text-decoration-color: #008080; font-weight: bold\">79</span> <span style=\"color: #008080; text-decoration-color: #008080; font-weight: bold\">80</span> <span style=\"color: #008080; text-decoration-color: #008080; font-weight: bold\">81</span> <span style=\"color: #008080; text-decoration-color: #008080; font-weight: bold\">82</span> <span style=\"color: #008080; text-decoration-color: #008080; font-weight: bold\">83</span> <span style=\"color: #008080; text-decoration-color: #008080; font-weight: bold\">84</span> <span style=\"color: #008080; text-decoration-color: #008080; font-weight: bold\">85</span> <span style=\"color: #008080; text-decoration-color: #008080; font-weight: bold\">86</span> <span style=\"color: #008080; text-decoration-color: #008080; font-weight: bold\">87</span> <span style=\"color: #008080; text-decoration-color: #008080; font-weight: bold\">88</span> <span style=\"color: #008080; text-decoration-color: #008080; font-weight: bold\">89</span> <span style=\"color: #008080; text-decoration-color: #008080; font-weight: bold\">90</span> <span style=\"color: #008080; text-decoration-color: #008080; font-weight: bold\">91</span> <span style=\"color: #008080; text-decoration-color: #008080; font-weight: bold\">92</span>\n",
       "<span style=\"color: #008080; text-decoration-color: #008080; font-weight: bold\">93</span> <span style=\"color: #008080; text-decoration-color: #008080; font-weight: bold\">94</span> <span style=\"color: #008080; text-decoration-color: #008080; font-weight: bold\">95</span> <span style=\"color: #008080; text-decoration-color: #008080; font-weight: bold\">96</span> <span style=\"color: #008080; text-decoration-color: #008080; font-weight: bold\">97</span> <span style=\"color: #008080; text-decoration-color: #008080; font-weight: bold\">98</span> <span style=\"color: #008080; text-decoration-color: #008080; font-weight: bold\">99</span>                                                                        \n",
       "</pre>\n"
      ],
      "text/plain": [
       "\u001b[1;36m0\u001b[0m  \u001b[1;36m1\u001b[0m  \u001b[1;36m2\u001b[0m  \u001b[1;36m3\u001b[0m  \u001b[1;36m4\u001b[0m  \u001b[1;36m5\u001b[0m  \u001b[1;36m6\u001b[0m  \u001b[1;36m7\u001b[0m  \u001b[1;36m8\u001b[0m  \u001b[1;36m9\u001b[0m  \u001b[1;36m10\u001b[0m \u001b[1;36m11\u001b[0m \u001b[1;36m12\u001b[0m \u001b[1;36m13\u001b[0m \u001b[1;36m14\u001b[0m \u001b[1;36m15\u001b[0m \u001b[1;36m16\u001b[0m \u001b[1;36m17\u001b[0m \u001b[1;36m18\u001b[0m \u001b[1;36m19\u001b[0m \u001b[1;36m20\u001b[0m \u001b[1;36m21\u001b[0m \u001b[1;36m22\u001b[0m \u001b[1;36m23\u001b[0m \u001b[1;36m24\u001b[0m \u001b[1;36m25\u001b[0m \u001b[1;36m26\u001b[0m \u001b[1;36m27\u001b[0m \u001b[1;36m28\u001b[0m \u001b[1;36m29\u001b[0m \u001b[1;36m30\u001b[0m\n",
       "\u001b[1;36m31\u001b[0m \u001b[1;36m32\u001b[0m \u001b[1;36m33\u001b[0m \u001b[1;36m34\u001b[0m \u001b[1;36m35\u001b[0m \u001b[1;36m36\u001b[0m \u001b[1;36m37\u001b[0m \u001b[1;36m38\u001b[0m \u001b[1;36m39\u001b[0m \u001b[1;36m40\u001b[0m \u001b[1;36m41\u001b[0m \u001b[1;36m42\u001b[0m \u001b[1;36m43\u001b[0m \u001b[1;36m44\u001b[0m \u001b[1;36m45\u001b[0m \u001b[1;36m46\u001b[0m \u001b[1;36m47\u001b[0m \u001b[1;36m48\u001b[0m \u001b[1;36m49\u001b[0m \u001b[1;36m50\u001b[0m \u001b[1;36m51\u001b[0m \u001b[1;36m52\u001b[0m \u001b[1;36m53\u001b[0m \u001b[1;36m54\u001b[0m \u001b[1;36m55\u001b[0m \u001b[1;36m56\u001b[0m \u001b[1;36m57\u001b[0m \u001b[1;36m58\u001b[0m \u001b[1;36m59\u001b[0m \u001b[1;36m60\u001b[0m \u001b[1;36m61\u001b[0m\n",
       "\u001b[1;36m62\u001b[0m \u001b[1;36m63\u001b[0m \u001b[1;36m64\u001b[0m \u001b[1;36m65\u001b[0m \u001b[1;36m66\u001b[0m \u001b[1;36m67\u001b[0m \u001b[1;36m68\u001b[0m \u001b[1;36m69\u001b[0m \u001b[1;36m70\u001b[0m \u001b[1;36m71\u001b[0m \u001b[1;36m72\u001b[0m \u001b[1;36m73\u001b[0m \u001b[1;36m74\u001b[0m \u001b[1;36m75\u001b[0m \u001b[1;36m76\u001b[0m \u001b[1;36m77\u001b[0m \u001b[1;36m78\u001b[0m \u001b[1;36m79\u001b[0m \u001b[1;36m80\u001b[0m \u001b[1;36m81\u001b[0m \u001b[1;36m82\u001b[0m \u001b[1;36m83\u001b[0m \u001b[1;36m84\u001b[0m \u001b[1;36m85\u001b[0m \u001b[1;36m86\u001b[0m \u001b[1;36m87\u001b[0m \u001b[1;36m88\u001b[0m \u001b[1;36m89\u001b[0m \u001b[1;36m90\u001b[0m \u001b[1;36m91\u001b[0m \u001b[1;36m92\u001b[0m\n",
       "\u001b[1;36m93\u001b[0m \u001b[1;36m94\u001b[0m \u001b[1;36m95\u001b[0m \u001b[1;36m96\u001b[0m \u001b[1;36m97\u001b[0m \u001b[1;36m98\u001b[0m \u001b[1;36m99\u001b[0m                                                                        \n"
      ]
     },
     "metadata": {},
     "output_type": "display_data"
    }
   ],
   "source": [
    "import os\n",
    "import sys\n",
    "\n",
    "from rich import print\n",
    "from rich.columns import Columns\n",
    "\n",
    "\n",
    "\n",
    "\n",
    "columns = Columns([str(i) for i in range(100)], equal=True, expand=False)\n",
    "print(columns)"
   ]
  },
  {
   "cell_type": "code",
   "execution_count": 99,
   "id": "53fa2f8e",
   "metadata": {},
   "outputs": [
    {
     "data": {
      "application/vnd.jupyter.widget-view+json": {
       "model_id": "8271fc4c77194047a49aec7d07ab0bb4",
       "version_major": 2,
       "version_minor": 0
      },
      "text/plain": [
       "Output()"
      ]
     },
     "metadata": {},
     "output_type": "display_data"
    }
   ],
   "source": [
    "import random\n",
    "import time\n",
    "\n",
    "from tqdm import tqdm\n",
    "from rich.live import Live\n",
    "from rich.table import Table\n",
    "from rich import print\n",
    "from rich.console import RenderGroup\n",
    "from rich.panel import Panel\n",
    "from rich.progress import Progress\n",
    "\n",
    "def gen_columns(prog, task1) -> Table:\n",
    "    \n",
    "    n = 10\n",
    "    tablej = Table()\n",
    "    rowj = []\n",
    "    for i in range(n):\n",
    "        tablej.add_column(\"[bold green]\" + str(i), no_wrap=False)\n",
    "    \n",
    "    for k in range(6):\n",
    "        rowj = []\n",
    "        for i in range(n):  \n",
    "            if k % 2 == 1:\n",
    "                rowj.append( '[bold blue]' + str(i) )\n",
    "            else:\n",
    "                rowj.append( '[dim bold green]' + '{:.3}'.format(float(i * random.random())) )\n",
    "        tablej.add_row(*rowj)\n",
    "    tablej.box = None\n",
    "    tablej.pad_edge = False\n",
    "    tablej.width = 100\n",
    "    columns = Columns(['IDX 1', 'loss 2'], equal=True, expand=False)\n",
    "\n",
    "    prog.update(task1, advance=1, refresh=True)\n",
    "\n",
    "    group = RenderGroup( columns, tablej, prog )\n",
    "    return group\n",
    "\n",
    "\n",
    "prog = Progress(console=console, auto_refresh=False)\n",
    "task1 = progress.add_task('Task 1', total=100)\n",
    "\n",
    "with Live(gen_columns(prog, task1), refresh_per_second=4) as live:\n",
    "    for _ in range(3):\n",
    "        time.sleep(3)\n",
    "        live.update(gen_columns(prog))"
   ]
  },
  {
   "cell_type": "code",
   "execution_count": 54,
   "id": "b3100681",
   "metadata": {},
   "outputs": [
    {
     "data": {
      "text/html": [
       "<pre style=\"white-space:pre;overflow-x:auto;line-height:normal;font-family:Menlo,'DejaVu Sans Mono',consolas,'Courier New',monospace\"><span style=\"color: #008000; text-decoration-color: #008000; font-weight: bold\">0</span><span style=\"font-weight: bold\">  </span><span style=\"color: #008000; text-decoration-color: #008000; font-weight: bold\">1</span><span style=\"font-weight: bold\">  </span><span style=\"color: #008000; text-decoration-color: #008000; font-weight: bold\">2</span><span style=\"font-weight: bold\">  </span><span style=\"color: #008000; text-decoration-color: #008000; font-weight: bold\">3</span><span style=\"font-weight: bold\">  </span><span style=\"color: #008000; text-decoration-color: #008000; font-weight: bold\">4</span><span style=\"font-weight: bold\">  </span><span style=\"color: #008000; text-decoration-color: #008000; font-weight: bold\">5</span><span style=\"font-weight: bold\">  </span><span style=\"color: #008000; text-decoration-color: #008000; font-weight: bold\">6</span><span style=\"font-weight: bold\">  </span><span style=\"color: #008000; text-decoration-color: #008000; font-weight: bold\">7</span><span style=\"font-weight: bold\">  </span><span style=\"color: #008000; text-decoration-color: #008000; font-weight: bold\">8</span><span style=\"font-weight: bold\">  </span><span style=\"color: #008000; text-decoration-color: #008000; font-weight: bold\">9</span><span style=\"font-weight: bold\">  </span><span style=\"color: #008000; text-decoration-color: #008000; font-weight: bold\">10</span><span style=\"font-weight: bold\">  </span><span style=\"color: #008000; text-decoration-color: #008000; font-weight: bold\">11</span><span style=\"font-weight: bold\">  </span><span style=\"color: #008000; text-decoration-color: #008000; font-weight: bold\">12</span><span style=\"font-weight: bold\">  </span><span style=\"color: #008000; text-decoration-color: #008000; font-weight: bold\">13</span><span style=\"font-weight: bold\">  </span><span style=\"color: #008000; text-decoration-color: #008000; font-weight: bold\">14</span><span style=\"font-weight: bold\">  </span><span style=\"color: #008000; text-decoration-color: #008000; font-weight: bold\">15</span><span style=\"font-weight: bold\">  </span><span style=\"color: #008000; text-decoration-color: #008000; font-weight: bold\">16</span><span style=\"font-weight: bold\">  </span><span style=\"color: #008000; text-decoration-color: #008000; font-weight: bold\">17</span><span style=\"font-weight: bold\">  </span><span style=\"color: #008000; text-decoration-color: #008000; font-weight: bold\">18</span><span style=\"font-weight: bold\">  </span><span style=\"color: #008000; text-decoration-color: #008000; font-weight: bold\">19</span>\n",
       "0  1  2  3  4  5  6  7  8  9  10  11  12  13  14  15  16  17  18  19\n",
       "<span style=\"color: #008000; text-decoration-color: #008000; font-weight: bold\">0</span><span style=\"font-weight: bold\">  </span><span style=\"color: #008000; text-decoration-color: #008000; font-weight: bold\">1</span><span style=\"font-weight: bold\">  </span><span style=\"color: #008000; text-decoration-color: #008000; font-weight: bold\">2</span><span style=\"font-weight: bold\">  </span><span style=\"color: #008000; text-decoration-color: #008000; font-weight: bold\">3</span><span style=\"font-weight: bold\">  </span><span style=\"color: #008000; text-decoration-color: #008000; font-weight: bold\">4</span><span style=\"font-weight: bold\">  </span><span style=\"color: #008000; text-decoration-color: #008000; font-weight: bold\">5</span><span style=\"font-weight: bold\">  </span><span style=\"color: #008000; text-decoration-color: #008000; font-weight: bold\">6</span><span style=\"font-weight: bold\">  </span><span style=\"color: #008000; text-decoration-color: #008000; font-weight: bold\">7</span><span style=\"font-weight: bold\">  </span><span style=\"color: #008000; text-decoration-color: #008000; font-weight: bold\">8</span><span style=\"font-weight: bold\">  </span><span style=\"color: #008000; text-decoration-color: #008000; font-weight: bold\">9</span><span style=\"font-weight: bold\">  </span><span style=\"color: #008000; text-decoration-color: #008000; font-weight: bold\">10</span><span style=\"font-weight: bold\">  </span><span style=\"color: #008000; text-decoration-color: #008000; font-weight: bold\">11</span><span style=\"font-weight: bold\">  </span><span style=\"color: #008000; text-decoration-color: #008000; font-weight: bold\">12</span><span style=\"font-weight: bold\">  </span><span style=\"color: #008000; text-decoration-color: #008000; font-weight: bold\">13</span><span style=\"font-weight: bold\">  </span><span style=\"color: #008000; text-decoration-color: #008000; font-weight: bold\">14</span><span style=\"font-weight: bold\">  </span><span style=\"color: #008000; text-decoration-color: #008000; font-weight: bold\">15</span><span style=\"font-weight: bold\">  </span><span style=\"color: #008000; text-decoration-color: #008000; font-weight: bold\">16</span><span style=\"font-weight: bold\">  </span><span style=\"color: #008000; text-decoration-color: #008000; font-weight: bold\">17</span><span style=\"font-weight: bold\">  </span><span style=\"color: #008000; text-decoration-color: #008000; font-weight: bold\">18</span><span style=\"font-weight: bold\">  </span><span style=\"color: #008000; text-decoration-color: #008000; font-weight: bold\">19</span>\n",
       "0  1  2  3  4  5  6  7  8  9  10  11  12  13  14  15  16  17  18  19\n",
       "</pre>\n"
      ],
      "text/plain": [
       "\u001b[1;32m0\u001b[0m\u001b[1m \u001b[0m\u001b[1m \u001b[0m\u001b[1;32m1\u001b[0m\u001b[1m \u001b[0m\u001b[1m \u001b[0m\u001b[1;32m2\u001b[0m\u001b[1m \u001b[0m\u001b[1m \u001b[0m\u001b[1;32m3\u001b[0m\u001b[1m \u001b[0m\u001b[1m \u001b[0m\u001b[1;32m4\u001b[0m\u001b[1m \u001b[0m\u001b[1m \u001b[0m\u001b[1;32m5\u001b[0m\u001b[1m \u001b[0m\u001b[1m \u001b[0m\u001b[1;32m6\u001b[0m\u001b[1m \u001b[0m\u001b[1m \u001b[0m\u001b[1;32m7\u001b[0m\u001b[1m \u001b[0m\u001b[1m \u001b[0m\u001b[1;32m8\u001b[0m\u001b[1m \u001b[0m\u001b[1m \u001b[0m\u001b[1;32m9\u001b[0m\u001b[1m \u001b[0m\u001b[1m \u001b[0m\u001b[1;32m10\u001b[0m\u001b[1m \u001b[0m\u001b[1m \u001b[0m\u001b[1;32m11\u001b[0m\u001b[1m \u001b[0m\u001b[1m \u001b[0m\u001b[1;32m12\u001b[0m\u001b[1m \u001b[0m\u001b[1m \u001b[0m\u001b[1;32m13\u001b[0m\u001b[1m \u001b[0m\u001b[1m \u001b[0m\u001b[1;32m14\u001b[0m\u001b[1m \u001b[0m\u001b[1m \u001b[0m\u001b[1;32m15\u001b[0m\u001b[1m \u001b[0m\u001b[1m \u001b[0m\u001b[1;32m16\u001b[0m\u001b[1m \u001b[0m\u001b[1m \u001b[0m\u001b[1;32m17\u001b[0m\u001b[1m \u001b[0m\u001b[1m \u001b[0m\u001b[1;32m18\u001b[0m\u001b[1m \u001b[0m\u001b[1m \u001b[0m\u001b[1;32m19\u001b[0m\n",
       "0  1  2  3  4  5  6  7  8  9  10  11  12  13  14  15  16  17  18  19\n",
       "\u001b[1;32m0\u001b[0m\u001b[1m \u001b[0m\u001b[1m \u001b[0m\u001b[1;32m1\u001b[0m\u001b[1m \u001b[0m\u001b[1m \u001b[0m\u001b[1;32m2\u001b[0m\u001b[1m \u001b[0m\u001b[1m \u001b[0m\u001b[1;32m3\u001b[0m\u001b[1m \u001b[0m\u001b[1m \u001b[0m\u001b[1;32m4\u001b[0m\u001b[1m \u001b[0m\u001b[1m \u001b[0m\u001b[1;32m5\u001b[0m\u001b[1m \u001b[0m\u001b[1m \u001b[0m\u001b[1;32m6\u001b[0m\u001b[1m \u001b[0m\u001b[1m \u001b[0m\u001b[1;32m7\u001b[0m\u001b[1m \u001b[0m\u001b[1m \u001b[0m\u001b[1;32m8\u001b[0m\u001b[1m \u001b[0m\u001b[1m \u001b[0m\u001b[1;32m9\u001b[0m\u001b[1m \u001b[0m\u001b[1m \u001b[0m\u001b[1;32m10\u001b[0m\u001b[1m \u001b[0m\u001b[1m \u001b[0m\u001b[1;32m11\u001b[0m\u001b[1m \u001b[0m\u001b[1m \u001b[0m\u001b[1;32m12\u001b[0m\u001b[1m \u001b[0m\u001b[1m \u001b[0m\u001b[1;32m13\u001b[0m\u001b[1m \u001b[0m\u001b[1m \u001b[0m\u001b[1;32m14\u001b[0m\u001b[1m \u001b[0m\u001b[1m \u001b[0m\u001b[1;32m15\u001b[0m\u001b[1m \u001b[0m\u001b[1m \u001b[0m\u001b[1;32m16\u001b[0m\u001b[1m \u001b[0m\u001b[1m \u001b[0m\u001b[1;32m17\u001b[0m\u001b[1m \u001b[0m\u001b[1m \u001b[0m\u001b[1;32m18\u001b[0m\u001b[1m \u001b[0m\u001b[1m \u001b[0m\u001b[1;32m19\u001b[0m\n",
       "0  1  2  3  4  5  6  7  8  9  10  11  12  13  14  15  16  17  18  19\n"
      ]
     },
     "metadata": {},
     "output_type": "display_data"
    }
   ],
   "source": [
    "from rich.console import Console\n",
    "from rich.table import Table\n",
    "\n",
    "tablej = Table()\n",
    "rowj = []\n",
    "for i in range(20):\n",
    "    tablej.add_column(\"[bold green]\" + str(i), no_wrap=False)\n",
    "    rowj.append( str(i) )\n",
    "tablej.add_row(*rowj)\n",
    "tablej.box = None\n",
    "tablej.pad_edge = False\n",
    "tablej.width = None\n",
    "\n",
    "tablek = Table()\n",
    "rowk = []\n",
    "for i in range(20):\n",
    "    tablek.add_column(\"[bold green]\" + str(i), no_wrap=False)\n",
    "    rowk.append( str(i) )\n",
    "tablek.add_row(*rowk)\n",
    "tablek.box = None\n",
    "tablek.pad_edge = False\n",
    "tablek.width = None\n",
    "\n",
    "group = RenderGroup( tablej, tablek )\n",
    "\n",
    "console = Console()\n",
    "console.print( group )"
   ]
  },
  {
   "cell_type": "code",
   "execution_count": null,
   "id": "98bcb35b",
   "metadata": {},
   "outputs": [],
   "source": []
  }
 ],
 "metadata": {
  "kernelspec": {
   "display_name": "Python 3",
   "language": "python",
   "name": "python3"
  },
  "language_info": {
   "codemirror_mode": {
    "name": "ipython",
    "version": 3
   },
   "file_extension": ".py",
   "mimetype": "text/x-python",
   "name": "python",
   "nbconvert_exporter": "python",
   "pygments_lexer": "ipython3",
   "version": "3.8.10"
  }
 },
 "nbformat": 4,
 "nbformat_minor": 5
}
